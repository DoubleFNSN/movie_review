{
 "cells": [
  {
   "cell_type": "markdown",
   "metadata": {},
   "source": [
    "# CNN\n",
    "\n",
    "Submission accuracy: `0.86884`"
   ]
  },
  {
   "cell_type": "markdown",
   "metadata": {},
   "source": [
    "Download necessary NLTK files:\n",
    "* `stopwords`: Stopwords Corpus\n",
    "* `wordnet`: WordNet"
   ]
  },
  {
   "cell_type": "code",
   "execution_count": 1,
   "metadata": {},
   "outputs": [],
   "source": [
    "%%script false\n",
    "import nltk\n",
    "nltk.download('stopwords')\n",
    "nltk.download('wordnet')"
   ]
  },
  {
   "cell_type": "code",
   "execution_count": 2,
   "metadata": {
    "scrolled": false
   },
   "outputs": [
    {
     "name": "stderr",
     "output_type": "stream",
     "text": [
      "Using TensorFlow backend.\n"
     ]
    }
   ],
   "source": [
    "%matplotlib inline\n",
    "import numpy as np\n",
    "import matplotlib.pyplot as plt\n",
    "import pandas as pd\n",
    "import tensorflow as tf\n",
    "import tensorflow.contrib.slim as slim\n",
    "import re\n",
    "from bs4 import BeautifulSoup\n",
    "from nltk.corpus import stopwords\n",
    "from nltk.stem import WordNetLemmatizer\n",
    "from keras.preprocessing.text import Tokenizer\n",
    "from keras.preprocessing.sequence import pad_sequences\n",
    "from os.path import join\n",
    "from tqdm import tqdm, trange\n",
    "\n",
    "tqdm.pandas()"
   ]
  },
  {
   "cell_type": "markdown",
   "metadata": {},
   "source": [
    "## Data loading"
   ]
  },
  {
   "cell_type": "code",
   "execution_count": 3,
   "metadata": {},
   "outputs": [
    {
     "data": {
      "text/html": [
       "<div>\n",
       "<style scoped>\n",
       "    .dataframe tbody tr th:only-of-type {\n",
       "        vertical-align: middle;\n",
       "    }\n",
       "\n",
       "    .dataframe tbody tr th {\n",
       "        vertical-align: top;\n",
       "    }\n",
       "\n",
       "    .dataframe thead th {\n",
       "        text-align: right;\n",
       "    }\n",
       "</style>\n",
       "<table border=\"1\" class=\"dataframe\">\n",
       "  <thead>\n",
       "    <tr style=\"text-align: right;\">\n",
       "      <th></th>\n",
       "      <th>id</th>\n",
       "      <th>sentiment</th>\n",
       "      <th>review</th>\n",
       "    </tr>\n",
       "  </thead>\n",
       "  <tbody>\n",
       "    <tr>\n",
       "      <th>0</th>\n",
       "      <td>5814_8</td>\n",
       "      <td>1</td>\n",
       "      <td>With all this stuff going down at the moment w...</td>\n",
       "    </tr>\n",
       "    <tr>\n",
       "      <th>1</th>\n",
       "      <td>2381_9</td>\n",
       "      <td>1</td>\n",
       "      <td>\\The Classic War of the Worlds\\\" by Timothy Hi...</td>\n",
       "    </tr>\n",
       "    <tr>\n",
       "      <th>2</th>\n",
       "      <td>7759_3</td>\n",
       "      <td>0</td>\n",
       "      <td>The film starts with a manager (Nicholas Bell)...</td>\n",
       "    </tr>\n",
       "    <tr>\n",
       "      <th>3</th>\n",
       "      <td>3630_4</td>\n",
       "      <td>0</td>\n",
       "      <td>It must be assumed that those who praised this...</td>\n",
       "    </tr>\n",
       "    <tr>\n",
       "      <th>4</th>\n",
       "      <td>9495_8</td>\n",
       "      <td>1</td>\n",
       "      <td>Superbly trashy and wondrously unpretentious 8...</td>\n",
       "    </tr>\n",
       "  </tbody>\n",
       "</table>\n",
       "</div>"
      ],
      "text/plain": [
       "       id  sentiment                                             review\n",
       "0  5814_8          1  With all this stuff going down at the moment w...\n",
       "1  2381_9          1  \\The Classic War of the Worlds\\\" by Timothy Hi...\n",
       "2  7759_3          0  The film starts with a manager (Nicholas Bell)...\n",
       "3  3630_4          0  It must be assumed that those who praised this...\n",
       "4  9495_8          1  Superbly trashy and wondrously unpretentious 8..."
      ]
     },
     "execution_count": 3,
     "metadata": {},
     "output_type": "execute_result"
    }
   ],
   "source": [
    "src = 'data'\n",
    "df_train = pd.read_csv(join(src, 'labeledTrainData.tsv'), sep='\\t')\n",
    "df_train.head()"
   ]
  },
  {
   "cell_type": "code",
   "execution_count": 4,
   "metadata": {},
   "outputs": [
    {
     "data": {
      "text/html": [
       "<div>\n",
       "<style scoped>\n",
       "    .dataframe tbody tr th:only-of-type {\n",
       "        vertical-align: middle;\n",
       "    }\n",
       "\n",
       "    .dataframe tbody tr th {\n",
       "        vertical-align: top;\n",
       "    }\n",
       "\n",
       "    .dataframe thead th {\n",
       "        text-align: right;\n",
       "    }\n",
       "</style>\n",
       "<table border=\"1\" class=\"dataframe\">\n",
       "  <thead>\n",
       "    <tr style=\"text-align: right;\">\n",
       "      <th></th>\n",
       "      <th>id</th>\n",
       "      <th>review</th>\n",
       "    </tr>\n",
       "  </thead>\n",
       "  <tbody>\n",
       "    <tr>\n",
       "      <th>0</th>\n",
       "      <td>12311_10</td>\n",
       "      <td>Naturally in a film who's main themes are of m...</td>\n",
       "    </tr>\n",
       "    <tr>\n",
       "      <th>1</th>\n",
       "      <td>8348_2</td>\n",
       "      <td>This movie is a disaster within a disaster fil...</td>\n",
       "    </tr>\n",
       "    <tr>\n",
       "      <th>2</th>\n",
       "      <td>5828_4</td>\n",
       "      <td>All in all, this is a movie for kids. We saw i...</td>\n",
       "    </tr>\n",
       "    <tr>\n",
       "      <th>3</th>\n",
       "      <td>7186_2</td>\n",
       "      <td>Afraid of the Dark left me with the impression...</td>\n",
       "    </tr>\n",
       "    <tr>\n",
       "      <th>4</th>\n",
       "      <td>12128_7</td>\n",
       "      <td>A very accurate depiction of small time mob li...</td>\n",
       "    </tr>\n",
       "  </tbody>\n",
       "</table>\n",
       "</div>"
      ],
      "text/plain": [
       "         id                                             review\n",
       "0  12311_10  Naturally in a film who's main themes are of m...\n",
       "1    8348_2  This movie is a disaster within a disaster fil...\n",
       "2    5828_4  All in all, this is a movie for kids. We saw i...\n",
       "3    7186_2  Afraid of the Dark left me with the impression...\n",
       "4   12128_7  A very accurate depiction of small time mob li..."
      ]
     },
     "execution_count": 4,
     "metadata": {},
     "output_type": "execute_result"
    }
   ],
   "source": [
    "df_test = pd.read_csv(join(src, 'testData.tsv'), sep='\\t')\n",
    "df_test.head()"
   ]
  },
  {
   "cell_type": "markdown",
   "metadata": {},
   "source": [
    "## Data cleaning\n",
    "During data cleaning, we perform the typical text normalization as in previous methods:\n",
    "\n",
    "1. Remove HTML markup tags\n",
    "1. Remove punctuation and whitespace\n",
    "1. Convert to lowercase\n",
    "1. Remove stopwords\n",
    "1. Lemmatize words (WordNet)"
   ]
  },
  {
   "cell_type": "code",
   "execution_count": 5,
   "metadata": {},
   "outputs": [],
   "source": [
    "lemmatizer = WordNetLemmatizer()\n",
    "_stopwords = set(stopwords.words('english'))\n",
    "\n",
    "def clean_sentence(sentence):\n",
    "    removed_markup = BeautifulSoup(sentence, 'html.parser').get_text()\n",
    "    removed_punctuation = re.sub(r'[^a-zA-Z]', ' ', removed_markup)\n",
    "    tokens = removed_punctuation.lower().split()\n",
    "    removed_stopwords = [w for w in tokens if w not in _stopwords]\n",
    "    lemmatized = [lemmatizer.lemmatize(w) for w in removed_stopwords]\n",
    "    return lemmatized"
   ]
  },
  {
   "cell_type": "code",
   "execution_count": 6,
   "metadata": {},
   "outputs": [
    {
     "name": "stderr",
     "output_type": "stream",
     "text": [
      "100%|██████████| 25000/25000 [00:19<00:00, 1278.26it/s]\n",
      "100%|██████████| 25000/25000 [00:17<00:00, 1401.26it/s]\n"
     ]
    }
   ],
   "source": [
    "df_train['review_cleaned'] = [clean_sentence(s) for s in tqdm(df_train['review'])]\n",
    "df_test['review_cleaned'] = [clean_sentence(s) for s in tqdm(df_test['review'])]"
   ]
  },
  {
   "cell_type": "code",
   "execution_count": 7,
   "metadata": {},
   "outputs": [
    {
     "name": "stderr",
     "output_type": "stream",
     "text": [
      "100%|██████████| 25000/25000 [00:18<00:00, 1365.68it/s]\n",
      "100%|██████████| 25000/25000 [00:17<00:00, 1398.25it/s]\n"
     ]
    }
   ],
   "source": [
    "df_train['review_cleaned'] = df_train['review'].progress_apply(clean_sentence)\n",
    "df_test['review_cleaned'] = df_test['review'].progress_apply(clean_sentence)"
   ]
  },
  {
   "cell_type": "code",
   "execution_count": 8,
   "metadata": {},
   "outputs": [
    {
     "data": {
      "text/plain": [
       "(25000, 25000)"
      ]
     },
     "execution_count": 8,
     "metadata": {},
     "output_type": "execute_result"
    }
   ],
   "source": [
    "review_train = list(df_train['review_cleaned'])\n",
    "review_test = list(df_test['review_cleaned'])\n",
    "len(review_train), len(review_test)"
   ]
  },
  {
   "cell_type": "markdown",
   "metadata": {},
   "source": [
    "### Tokenizer\n",
    "The tokenizer converts words into a sequence of numbers.\n",
    "```\n",
    "[445, 86, 489, 10939, 8, 61, 583, ...]\n",
    "```\n",
    "\n",
    "Here we use Keras to tokenize our words."
   ]
  },
  {
   "cell_type": "code",
   "execution_count": 9,
   "metadata": {
    "scrolled": false
   },
   "outputs": [
    {
     "name": "stdout",
     "output_type": "stream",
     "text": [
      "CPU times: user 3.76 s, sys: 3.84 ms, total: 3.77 s\n",
      "Wall time: 3.77 s\n"
     ]
    }
   ],
   "source": [
    "%%time\n",
    "tokenizer = Tokenizer()\n",
    "tokenizer.fit_on_texts(review_train + review_test)"
   ]
  },
  {
   "cell_type": "markdown",
   "metadata": {},
   "source": [
    "Each word in the vocabulary is mapped to a number. Take a look at some of the mappings."
   ]
  },
  {
   "cell_type": "code",
   "execution_count": 10,
   "metadata": {},
   "outputs": [
    {
     "name": "stdout",
     "output_type": "stream",
     "text": [
      "movie 1\n",
      "film 2\n",
      "one 3\n",
      "like 4\n",
      "time 5\n",
      "good 6\n",
      "character 7\n"
     ]
    }
   ],
   "source": [
    "for i, k in enumerate(tokenizer.word_index):\n",
    "    print(k, tokenizer.word_index[k])\n",
    "    if i > 5:\n",
    "        break"
   ]
  },
  {
   "cell_type": "code",
   "execution_count": 11,
   "metadata": {},
   "outputs": [
    {
     "name": "stdout",
     "output_type": "stream",
     "text": [
      "CPU times: user 2.67 s, sys: 7.81 ms, total: 2.68 s\n",
      "Wall time: 2.68 s\n"
     ]
    }
   ],
   "source": [
    "%%time\n",
    "train_seq = tokenizer.texts_to_sequences(review_train)\n",
    "test_seq = tokenizer.texts_to_sequences(review_test)"
   ]
  },
  {
   "cell_type": "markdown",
   "metadata": {},
   "source": [
    "### Padding\n",
    "Pad sequences to the same length. Sentences exceeding the maximum length will be truncated. This is done via Keras as well."
   ]
  },
  {
   "cell_type": "code",
   "execution_count": 12,
   "metadata": {},
   "outputs": [
    {
     "data": {
      "image/png": "[encoded data removed]",
      "text/plain": [
       "<Figure size 1440x360 with 2 Axes>"
      ]
     },
     "metadata": {},
     "output_type": "display_data"
    }
   ],
   "source": [
    "review_lengths = np.array([len(l) for l in review_test + review_train])\n",
    "\n",
    "plt.figure(figsize=(20, 5))\n",
    "plt.subplot(1, 2, 1)\n",
    "plt.hist(review_lengths, bins=50)\n",
    "plt.subplot(1, 2, 2)\n",
    "plt.boxplot(np.percentile(review_lengths, [0, 25, 50, 75, 100]))\n",
    "plt.show();"
   ]
  },
  {
   "cell_type": "markdown",
   "metadata": {},
   "source": [
    "Max. length of `200` is chosen here based on the boxplot."
   ]
  },
  {
   "cell_type": "code",
   "execution_count": 13,
   "metadata": {},
   "outputs": [
    {
     "name": "stdout",
     "output_type": "stream",
     "text": [
      "(25000, 200) (25000, 200)\n",
      "CPU times: user 526 ms, sys: 88.2 ms, total: 614 ms\n",
      "Wall time: 509 ms\n"
     ]
    }
   ],
   "source": [
    "%%time\n",
    "maxlen = 200\n",
    "train_seq_pad = pad_sequences(train_seq, maxlen=maxlen)\n",
    "test_seq_pad = pad_sequences(test_seq, maxlen=maxlen)\n",
    "print(train_seq_pad.shape, test_seq_pad.shape)"
   ]
  },
  {
   "cell_type": "markdown",
   "metadata": {},
   "source": [
    "## Model\n",
    "Model implementation is obtained from the following paper:  \n",
    "[Convolutional Neural Networks for Sentence Classification](https://arxiv.org/abs/1408.5882)"
   ]
  },
  {
   "cell_type": "code",
   "execution_count": 14,
   "metadata": {},
   "outputs": [],
   "source": [
    "class CNN(object):\n",
    "    def __init__(self, vocab_size, embed_size=300):\n",
    "        self.x = tf.placeholder(tf.int32, [None, None], name='inputs')  # [batch_size, seq_len]\n",
    "        self.y = tf.placeholder(tf.int32, [None], name='labels')\n",
    "        self.keep_prob = tf.placeholder(tf.float32, name='keep_prob')\n",
    "        \n",
    "        embed = self.embeddings(self.x, vocab_size, embed_size)\n",
    "        logits = self.network(embed, embed_size)\n",
    "        losses = tf.nn.sparse_softmax_cross_entropy_with_logits(labels=self.y, logits=logits)\n",
    "        self.loss = tf.reduce_mean(losses)\n",
    "        \n",
    "        probs = tf.nn.softmax(logits)\n",
    "        preds = tf.argmax(probs, axis=-1)\n",
    "        correct_prediction = tf.equal(self.y, tf.cast(preds, tf.int32))\n",
    "        self.accuracy = tf.reduce_mean(tf.cast(correct_prediction, tf.float32))\n",
    "        \n",
    "        self.inference = preds\n",
    "        \n",
    "        with tf.name_scope('inputs'):\n",
    "            tf.summary.histogram('inputs', self.x)\n",
    "            tf.summary.histogram('labels', self.y)\n",
    "        with tf.name_scope('outputs'):\n",
    "            tf.summary.histogram('embed', embed)\n",
    "            tf.summary.histogram('logits', logits)\n",
    "        with tf.name_scope('metrics'):\n",
    "            tf.summary.scalar('loss', self.loss)\n",
    "            tf.summary.scalar('accuracy', self.accuracy)\n",
    "        self.summary = tf.summary.merge_all()\n",
    "        \n",
    "    def embeddings(self, inputs, vocab_size, embed_size):\n",
    "        with tf.name_scope('embeddings'):\n",
    "            embedding = tf.Variable(tf.random_uniform([vocab_size, embed_size], minval=-1, maxval=1))\n",
    "            embed = tf.nn.embedding_lookup(embedding, self.x)  # [batch_size, seq_len, embed_size]\n",
    "            embed = tf.expand_dims(embed, axis=-1)  # conv2d requires rank 4: NHWC\n",
    "        return embed\n",
    "    \n",
    "    def network(self, inputs, embed_size, n_filters=100, filter_sizes=[3, 4, 5]):\n",
    "        with tf.name_scope('conv'):\n",
    "            outputs = []\n",
    "            for filter_size in filter_sizes:\n",
    "                conv = slim.conv2d(inputs, 100, [filter_size, embed_size], padding='VALID', scope=f'conv_{filter_size}')\n",
    "                pool = slim.max_pool2d(conv, [200-filter_size+1, 1], padding='VALID', stride=1)\n",
    "                outputs.append(pool)\n",
    "\n",
    "        n_total_filters = n_filters * len(filter_sizes)\n",
    "        output = tf.concat(outputs, axis=-1)\n",
    "        output_flat = tf.reshape(output, [-1, n_total_filters])\n",
    "        \n",
    "        with tf.name_scope('fc'):\n",
    "            net = slim.dropout(output_flat, keep_prob=self.keep_prob, scope='dropout1')\n",
    "            net = slim.fully_connected(net, 2, activation_fn=None, scope='fc1')\n",
    "        return net"
   ]
  },
  {
   "cell_type": "code",
   "execution_count": 15,
   "metadata": {},
   "outputs": [],
   "source": [
    "# training hyperparameters\n",
    "learning_rate = 1e-3\n",
    "batch_size = 64\n",
    "n_epochs = 4\n",
    "\n",
    "model_path = 'model/cnn/model'\n",
    "logdir = f'logs/cnn/lr{learning_rate}_batch{batch_size}'"
   ]
  },
  {
   "cell_type": "code",
   "execution_count": 16,
   "metadata": {},
   "outputs": [],
   "source": [
    "tf.reset_default_graph()\n",
    "model = CNN(len(tokenizer.word_index))\n",
    "\n",
    "optimizer = tf.train.AdamOptimizer(learning_rate)\n",
    "train_step = optimizer.minimize(model.loss)\n",
    "\n",
    "saver = tf.train.Saver()"
   ]
  },
  {
   "cell_type": "code",
   "execution_count": 17,
   "metadata": {
    "scrolled": true
   },
   "outputs": [
    {
     "name": "stderr",
     "output_type": "stream",
     "text": [
      "Epoch 0: 100%|██████████| 390/390 [01:15<00:00,  5.19it/s]\n",
      "Epoch 1: 100%|██████████| 390/390 [01:12<00:00,  5.35it/s]\n",
      "Epoch 2: 100%|██████████| 390/390 [01:09<00:00,  5.65it/s]\n",
      "Epoch 3: 100%|██████████| 390/390 [01:15<00:00,  5.20it/s]\n"
     ]
    }
   ],
   "source": [
    "with tf.Session() as sess:\n",
    "    train_writer = tf.summary.FileWriter(join(logdir, 'train'), sess.graph)\n",
    "    val_writer = tf.summary.FileWriter(join(logdir, 'val'), sess.graph)\n",
    "    sess.run(tf.global_variables_initializer())\n",
    "    for epoch in range(n_epochs):\n",
    "        n_iters = int(np.ceil(len(train_seq_pad) / batch_size))\n",
    "        for i in trange(n_iters - 1, desc=f'Epoch {epoch}'):\n",
    "            x = train_seq_pad[i::n_iters]\n",
    "            y = df_train['sentiment'][i::n_iters].values\n",
    "            _, summary = sess.run([train_step, model.summary], feed_dict={\n",
    "                model.x: x,\n",
    "                model.y: y,\n",
    "                model.keep_prob: 0.5,\n",
    "            })\n",
    "            train_writer.add_summary(summary, epoch*n_iters + i)\n",
    "            \n",
    "            if i % 10 == 0:\n",
    "                summary = sess.run(model.summary, feed_dict={\n",
    "                    model.x: train_seq_pad[n_iters-1::n_iters],\n",
    "                    model.y: df_train['sentiment'][n_iters-1::n_iters].values,\n",
    "                    model.keep_prob: 1.0,\n",
    "                })\n",
    "                val_writer.add_summary(summary, epoch*n_iters + i)\n",
    "            \n",
    "        saver.save(sess, model_path)"
   ]
  },
  {
   "cell_type": "code",
   "execution_count": 18,
   "metadata": {},
   "outputs": [
    {
     "name": "stdout",
     "output_type": "stream",
     "text": [
      "INFO:tensorflow:Restoring parameters from model/cnn/model\n"
     ]
    },
    {
     "name": "stderr",
     "output_type": "stream",
     "text": [
      "100%|██████████| 391/391 [00:06<00:00, 61.80it/s]\n"
     ]
    },
    {
     "data": {
      "text/plain": [
       "25000"
      ]
     },
     "execution_count": 18,
     "metadata": {},
     "output_type": "execute_result"
    }
   ],
   "source": [
    "pred = []\n",
    "with tf.Session() as sess:\n",
    "    saver.restore(sess, model_path)\n",
    "    for i in trange(0, len(test_seq_pad), batch_size):\n",
    "        pred.extend(sess.run(model.inference, feed_dict={\n",
    "            model.x: test_seq_pad[i:i+batch_size],\n",
    "            model.keep_prob: 1.0,\n",
    "        }))\n",
    "len(pred)"
   ]
  },
  {
   "cell_type": "code",
   "execution_count": 19,
   "metadata": {},
   "outputs": [
    {
     "data": {
      "text/html": [
       "<div>\n",
       "<style scoped>\n",
       "    .dataframe tbody tr th:only-of-type {\n",
       "        vertical-align: middle;\n",
       "    }\n",
       "\n",
       "    .dataframe tbody tr th {\n",
       "        vertical-align: top;\n",
       "    }\n",
       "\n",
       "    .dataframe thead th {\n",
       "        text-align: right;\n",
       "    }\n",
       "</style>\n",
       "<table border=\"1\" class=\"dataframe\">\n",
       "  <thead>\n",
       "    <tr style=\"text-align: right;\">\n",
       "      <th></th>\n",
       "      <th>id</th>\n",
       "      <th>sentiment</th>\n",
       "    </tr>\n",
       "  </thead>\n",
       "  <tbody>\n",
       "    <tr>\n",
       "      <th>0</th>\n",
       "      <td>12311_10</td>\n",
       "      <td>1</td>\n",
       "    </tr>\n",
       "    <tr>\n",
       "      <th>1</th>\n",
       "      <td>8348_2</td>\n",
       "      <td>0</td>\n",
       "    </tr>\n",
       "    <tr>\n",
       "      <th>2</th>\n",
       "      <td>5828_4</td>\n",
       "      <td>0</td>\n",
       "    </tr>\n",
       "    <tr>\n",
       "      <th>3</th>\n",
       "      <td>7186_2</td>\n",
       "      <td>1</td>\n",
       "    </tr>\n",
       "    <tr>\n",
       "      <th>4</th>\n",
       "      <td>12128_7</td>\n",
       "      <td>1</td>\n",
       "    </tr>\n",
       "  </tbody>\n",
       "</table>\n",
       "</div>"
      ],
      "text/plain": [
       "         id  sentiment\n",
       "0  12311_10          1\n",
       "1    8348_2          0\n",
       "2    5828_4          0\n",
       "3    7186_2          1\n",
       "4   12128_7          1"
      ]
     },
     "execution_count": 19,
     "metadata": {},
     "output_type": "execute_result"
    }
   ],
   "source": [
    "output = pd.DataFrame({'id': df_test['id'], 'sentiment': pred})\n",
    "output.head()"
   ]
  },
  {
   "cell_type": "code",
   "execution_count": 20,
   "metadata": {},
   "outputs": [
    {
     "data": {
      "text/plain": [
       "(25000, 2)"
      ]
     },
     "execution_count": 20,
     "metadata": {},
     "output_type": "execute_result"
    }
   ],
   "source": [
    "output.shape"
   ]
  },
  {
   "cell_type": "code",
   "execution_count": 21,
   "metadata": {},
   "outputs": [],
   "source": [
    "output.to_csv('submission/word2vec_cnn.csv', index=False)"
   ]
  }
 ],
 "metadata": {
  "kernelspec": {
   "display_name": "Python 3",
   "language": "python",
   "name": "python3"
  },
  "language_info": {
   "codemirror_mode": {
    "name": "ipython",
    "version": 3
   },
   "file_extension": ".py",
   "mimetype": "text/x-python",
   "name": "python",
   "nbconvert_exporter": "python",
   "pygments_lexer": "ipython3",
   "version": "3.6.6"
  }
 },
 "nbformat": 4,
 "nbformat_minor": 2
}
